{
 "cells": [
  {
   "cell_type": "code",
   "execution_count": 3,
   "metadata": {},
   "outputs": [],
   "source": [
    "import cv2\n",
    "import numpy as np\n",
    "import matplotlib.pyplot as plt"
   ]
  },
  {
   "cell_type": "code",
   "execution_count": 4,
   "metadata": {},
   "outputs": [],
   "source": [
    "fk = np.random.rand(32,32,256)\n",
    "wk = np.random.rand(256,1)\n"
   ]
  },
  {
   "cell_type": "code",
   "execution_count": 5,
   "metadata": {},
   "outputs": [],
   "source": [
    "def get_sc(fk,wk):\n",
    "    sc = 0\n",
    "    sum_fk = np.expand_dims(fk.sum(axis=0).sum(axis=0), axis=1)\n",
    "    sc = np.matmul(np.transpose(wk,(1,0)),sum_fk)\n",
    "    return np.squeeze(sc)\n"
   ]
  },
  {
   "cell_type": "code",
   "execution_count": null,
   "metadata": {},
   "outputs": [],
   "source": [
    "def crm(fk, wk):\n",
    "    importance = np.zeros(fk.shape)\n",
    "    sum_fk = np.expand_dims(fk.sum(axis=0).sum(axis=0), axis=1)\n",
    "    sc = np.matmul(np.transpose(wk,(1,0)),sum_fk)\n",
    "    for k in range(fk.shape[2]):\n",
    "        for j in range(fk.shape[1]):\n",
    "            for i in range(fk.shape[0]):\n",
    "                temp = fk[i,j,k]\n",
    "                fk[i,j,k] = 0\n",
    "                importance[i,j,k] = np.power(sc-get_sc(fk,wk),2)\n",
    "                fk[i,j,k] = temp\n",
    "\n",
    "    return importance.sum(axis=-1)/importance.shape[-1]"
   ]
  },
  {
   "cell_type": "code",
   "execution_count": 6,
   "metadata": {},
   "outputs": [],
   "source": [
    "sc = get_sc(fk,wk)\n",
    "\n"
   ]
  },
  {
   "cell_type": "code",
   "execution_count": 16,
   "metadata": {},
   "outputs": [
    {
     "data": {
      "text/plain": [
       "255"
      ]
     },
     "execution_count": 16,
     "metadata": {},
     "output_type": "execute_result"
    }
   ],
   "source": [
    "heatmap = importance.sum(axis=-1)/importance.shape[-1]\n",
    "heatmap = cv2.applyColorMap(np.uint8(255*heatmap), cv2.COLORMAP_JET)\n",
    "heatmap.max()"
   ]
  },
  {
   "cell_type": "code",
   "execution_count": 14,
   "metadata": {},
   "outputs": [
    {
     "data": {
      "text/plain": [
       "<matplotlib.image.AxesImage at 0x12fa32dd0>"
      ]
     },
     "execution_count": 14,
     "metadata": {},
     "output_type": "execute_result"
    },
    {
     "data": {
      "image/png": "[encoded data removed]",
      "text/plain": [
       "<Figure size 640x480 with 1 Axes>"
      ]
     },
     "metadata": {},
     "output_type": "display_data"
    }
   ],
   "source": [
    "plt.imshow(heatmap)"
   ]
  }
 ],
 "metadata": {
  "kernelspec": {
   "display_name": "env",
   "language": "python",
   "name": "python3"
  },
  "language_info": {
   "codemirror_mode": {
    "name": "ipython",
    "version": 3
   },
   "file_extension": ".py",
   "mimetype": "text/x-python",
   "name": "python",
   "nbconvert_exporter": "python",
   "pygments_lexer": "ipython3",
   "version": "3.10.9"
  },
  "orig_nbformat": 4,
  "vscode": {
   "interpreter": {
    "hash": "2f3dc48caba029f3287dff3c8368298086f40d77a1e64619e295192761ef06fb"
   }
  }
 },
 "nbformat": 4,
 "nbformat_minor": 2
}
